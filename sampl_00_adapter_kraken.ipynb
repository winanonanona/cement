{
 "cells": [
  {
   "cell_type": "markdown",
   "metadata": {},
   "source": [
    "# First step!\n",
    "Remove adapter, kraken, assembly"
   ]
  },
  {
   "cell_type": "markdown",
   "metadata": {},
   "source": [
    "# Remove adapter\n",
    "using fastp"
   ]
  },
  {
   "cell_type": "code",
   "execution_count": null,
   "metadata": {
    "vscode": {
     "languageId": "shellscript"
    }
   },
   "outputs": [],
   "source": [
    "#fastp 0.12.4\n",
    "\n",
    "mkdir 01_adapter_removed\n",
    "\n",
    "parallel --xapply -j 8 \\\n",
    "    'fastp \\\n",
    "        -i {1} \\\n",
    "        -o ./01_adapter_removed/{1/} \\\n",
    "        -I {2} \\\n",
    "        -O ./01_adapter_removed/{2/}' \\\n",
    "::: ./00_fastq/*_1.fastq.gz ::: ./00_fastq/*_2.fastq.gz\n"
   ]
  },
  {
   "cell_type": "markdown",
   "metadata": {},
   "source": [
    "# Try Kraken on all samples"
   ]
  },
  {
   "cell_type": "code",
   "execution_count": null,
   "metadata": {
    "vscode": {
     "languageId": "shellscript"
    }
   },
   "outputs": [],
   "source": [
    "mkdir 91_kraken\n",
    "\n",
    "for sample in $(find ./01_adapter_removed/ -name \"*_1.fastq.gz\" -type f); do\n",
    "    file_name=$(basename $sample)\n",
    "    sample_name=${file_name%_*}\n",
    "    echo $sample_name\n",
    "\n",
    "    kraken2 --db /data3/databases/kranken2_database --threads 32 \\\n",
    "        --output ./91_kraken/${sample_name}_output.txt \\\n",
    "        --report ./91_kraken/${sample_name}_report.txt \\\n",
    "        --paired \\\n",
    "        ./01_adapter_removed/${sample_name}_1.fastq.gz ./01_adapter_removed/${sample_name}_2.fastq.gz \n",
    "    \n",
    "done\n"
   ]
  },
  {
   "cell_type": "markdown",
   "metadata": {},
   "source": [
    "# Try metaphlan on samples 7, 11, 13\n"
   ]
  },
  {
   "cell_type": "code",
   "execution_count": null,
   "metadata": {
    "vscode": {
     "languageId": "shellscript"
    }
   },
   "outputs": [],
   "source": [
    "# start docker container\n",
    "docker run -it --rm -v /data3/WINONA3/:/data3/WINONA3/ -w /data3/WINONA3/ biobakery/metaphlan:4.0.2 bash\n",
    "\n",
    "for sample in $(find ./01_adapter_removed/ -name \"*_1.fastq.gz\" -type f); do\n",
    "    file_name=$(basename $sample)\n",
    "    sample_name=${file_name%_*}\n",
    "\n",
    "    zcat 01_adapter_removed/${sample_name}_1.fastq.gz 01_adapter_removed/${sample_name}_2.fastq.gz > 01_cat/${sample_name}_cat.fastq\n",
    "\n",
    "    metaphlan 01_cat/${sample_name}_cat.fastq \\\n",
    "        --input_type fastq \\\n",
    "        --bowtie2db /data3/WINONA3/db/metaphlan_202403/ --index mpa_vJun23_CHOCOPhlAnSGB_202403 \\\n",
    "        --bowtie2out 92_metaphlan4/${sample_name}.bowtie2out.bz2 \\\n",
    "        -o 92_metaphlan4/${sample_name}.profile.txt \\\n",
    "        --nproc 32\n",
    "done\n",
    "\n"
   ]
  },
  {
   "cell_type": "markdown",
   "metadata": {
    "vscode": {
     "languageId": "shellscript"
    }
   },
   "source": [
    "# Assembly\n",
    "with metaspades"
   ]
  },
  {
   "cell_type": "code",
   "execution_count": null,
   "metadata": {
    "vscode": {
     "languageId": "shellscript"
    }
   },
   "outputs": [],
   "source": [
    "# Assembly\n",
    "mkdir 02_assembly\n",
    "\n",
    "conda activate python3.9\n",
    "\n",
    "for sample_name in $(cat sample_for_binning.txt); do\n",
    "    echo $sample_name\n",
    "\n",
    "    spades.py -o ./02_spades/02_assembly/$sample_name \\\n",
    "        --meta -t 64 -m 600 \\\n",
    "        -1 ./01_adapter_removed/${sample_name}_1.fastq.gz -2 ./01_adapter_removed/${sample_name}_2.fastq.gz \n",
    "\n",
    "    # remove all sequences below 150bp because how can the assembled be shorter than the reads?\n",
    "    # seqkit 2.9.0, cite paper\n",
    "    #seqkit seq 02_assembly/$sample_name/contigs.fasta -m 150 > 02_assembly/$sample_name/contigs_filt150.fasta\n",
    "\n",
    "done\n",
    "\n",
    "conda deactivate\n",
    "conda activate seqkit\n",
    "\n",
    "for sample_name in $(cat sample_for_binning.txt); do\n",
    "    echo $sample_name\n",
    "\n",
    "    seqkit seq 02_assembly/$sample_name/contigs.fasta -m 150 > 02_assembly/$sample_name/contigs_filt150.fasta\n",
    "\n",
    "done\n",
    "\n",
    "\n"
   ]
  },
  {
   "cell_type": "code",
   "execution_count": null,
   "metadata": {
    "vscode": {
     "languageId": "shellscript"
    }
   },
   "outputs": [],
   "source": [
    "mkdir 02_assembly_megahit\n",
    "\n",
    "for sample_name in $(cat sample_for_binning.txt); do\n",
    "    echo $sample_name\n",
    "\n",
    "    megahit -o 02_assembly_megahit/$sample_name \\\n",
    "        -t 32 -m 0.3 \\\n",
    "        -1 ./01_adapter_removed/${sample_name}_1.fastq.gz -2 ./01_adapter_removed/${sample_name}_2.fastq.gz \n",
    "\n",
    "    # remove all sequences below 150bp because how can the assembled be shorter than the reads?\n",
    "    # seqkit 2.9.0, cite paper\n",
    "    #seqkit seq 02_assembly_megahit/$sample_name/final.contigs.fa -m 150 > 02_assembly_megahit/$sample_name/final.contigsfilt150.fa\n",
    "\n",
    "done\n",
    "\n",
    "conda deactivate\n",
    "conda activate seqkit\n",
    "\n",
    "for sample_name in $(cat ../sample_for_binning.txt); do\n",
    "    echo $sample_name\n",
    "\n",
    "    seqkit seq 02_assembly/$sample_name/contigs.fasta -m 300 > 02_assembly/$sample_name/contigs_filt300.fasta\n",
    "\n",
    "done\n",
    "\n"
   ]
  },
  {
   "cell_type": "code",
   "execution_count": null,
   "metadata": {
    "vscode": {
     "languageId": "shellscript"
    }
   },
   "outputs": [],
   "source": [
    "# mapping\n",
    "\n",
    "mkdir 03_bowtie_metaspades\n",
    "\n",
    "for sample_name in $(cat sample_for_binning.txt); do\n",
    "    echo $sample_name\n",
    "\n",
    "    bowtie2-build \\\n",
    "        --seed 42 --threads 32 \\\n",
    "        02_assembly/$sample_name/contigs_filt150.fasta 03_bowtie_metaspades/$sample_name \\\n",
    "        2>&1 | tee 03_bowtie_metaspades/log_build_$sample_name\n",
    "    \n",
    "    bowtie2 \\\n",
    "        -x 03_bowtie_metaspades/$sample_name \\\n",
    "        -1 01_adapter_removed/${sample_name}_1.fastq.gz \\\n",
    "        -2 01_adapter_removed/${sample_name}_2.fastq.gz \\\n",
    "        -S 03_bowtie_metaspades/${sample_name}.sam \\\n",
    "        --seed 42 --threads 32 \\\n",
    "        2>&1 | tee 03_bowtie_metaspades/log_align_$sample_name\n",
    "\n",
    "done\n",
    "\n",
    "\n",
    "\n",
    "for sample_name in $(cat ../sample_for_binning.txt); do\n",
    "    echo $sample_name\n",
    "\n",
    "    mapped=./03_bowtie/${sample_name}.sam\n",
    "    bam_raw=./03_bowtie/${sample_name}_raw.bam\n",
    "    bam_sorted=./03_bowtie/${sample_name}_sorted.bam\n",
    "    bam_indexed=./03_bowtie/${sample_name}_sorted.bam.bai\n",
    "\n",
    "    samtools view -o $bam_raw -F 4 -@ 32 -bS $mapped \n",
    "    samtools sort -o $bam_sorted -@ 32 $bam_raw \n",
    "    samtools index -b -@ 32 $bam_sorted $bam_indexed \n",
    "\n",
    "done\n"
   ]
  },
  {
   "cell_type": "code",
   "execution_count": null,
   "metadata": {
    "vscode": {
     "languageId": "shellscript"
    }
   },
   "outputs": [],
   "source": [
    "bbmerge.sh in1= in2=<read2> out=<merged reads>\n",
    "\n",
    "# merge pairs\n",
    "parallel --xapply -j 2 \\\n",
    "    'bbmerge.sh in1={1} in2={2} out=./01_merged/{1/}' \\\n",
    "::: ./01_adapter_removed/*_1.fastq.gz ::: ./01_adapter_removed/*_2.fastq.gz\n",
    "\n",
    "# \n",
    "parallel -j 4 \\\n",
    "    'seqtk seq -a {} > {= s:\\.[^.]+$::;s:\\.[^.]+$::; =}.fasta' \\\n",
    "::: ./01_merged/*_1.fastq.gz\n",
    "\n",
    "docker run -it \\\n",
    "    -v /data/bioinformatics/databases/db-eggnog-mapper/:/data/bioinformatics/databases/db-eggnog-mapper/ \\\n",
    "    -v `pwd`:`pwd` -w `pwd` f01c4fb3b139\n",
    "\n",
    "mkdir 08_annot_eggnog\n",
    "EGGNOG_DATA_DIR=eggnog_db\n",
    "\n",
    "parallel -j 4 \\\n",
    "    'emapper.py -i {} \\\n",
    "    --itype metagenome --genepred prodigal --cpu 32 \\\n",
    "    -m diamond --data_dir eggnog_db \\\n",
    "    --output {/.} --output_dir 08_annot_eggnog \\\n",
    "    --pident 80 --query_cover 50 --override' \\\n",
    "::: ./01_merged/*.fasta\n",
    "\n",
    "\n",
    "for bin in $(find 01_merged/ -name \"*.fasta\" -type f); do\n",
    "    file_name=$(basename $bin)\n",
    "    bin_name=${file_name%.*}\n",
    "    echo $bin_name\n",
    "    emapper.py -i $bin \\\n",
    "    --itype metagenome --genepred prodigal --cpu 112 \\\n",
    "     -m diamond --data_dir $EGGNOG_DATA_DIR \\\n",
    "    --output $bin_name --output_dir 08_annot_eggnog --pident 80 --query_cover 50 --dbmem --override\n",
    "done\n",
    "\n",
    "\n",
    "seqtk sample -s100 01_adapter_removed/06_4A_1.fastq.gz 999 > sub_test1k.fastq.gz\n",
    "\n",
    "emapper.py  -i sub_test99.fastq.gz --data_dir /data/bioinformatics/databases/db-eggnog-mapper/ -o test --itype metagenome -m diamond --cpu 32 --override"
   ]
  },
  {
   "cell_type": "code",
   "execution_count": null,
   "metadata": {
    "vscode": {
     "languageId": "shellscript"
    }
   },
   "outputs": [],
   "source": [
    "mkdir 05_bins\n",
    "mkdir 06_bin_deets\n",
    "\n",
    "bowtie2-build \\\n",
    "    --seed 42 --threads 32 \\\n",
    "    05_bins_all.fa 06_bin_deets/bins\n",
    "\n",
    "for F in ./01_adapter_removed/*_1.fastq.gz; do \n",
    "\tR=${F%_*}_2.fastq.gz\n",
    "\t\n",
    "\tsamplebase=$(basename \"$F\")\n",
    "\tsamplename=${samplebase%_*}\n",
    "    sam=./06_bin_deets/${samplename}.sam\n",
    "\n",
    "\n",
    "\techo $samplename\n",
    "    bowtie2 \\\n",
    "        -x 06_bin_deets/bins \\\n",
    "        -1 $F \\\n",
    "        -2 $R \\\n",
    "        -S $sam \\\n",
    "        --seed 42 --threads 128\n",
    "\n",
    "    echo $samplename\n",
    "    bam1_raw=./06_bin_deets/${samplename}_q2.bam\n",
    "    bam1_sorted=./06_bin_deets/${samplename}_q2_sorted.bam\n",
    "    bam1_index=./06_bin_deets/${samplename}_q2_sorted.bam.bai\n",
    "\n",
    "    echo \"Converting from sam to bam with MAPQ>=2...\"    \n",
    "    samtools view -o $bam1_raw -q 2 -F 4 -@ 32 -bS $sam\n",
    "    \n",
    "    echo \"Sorting bam file...\"\n",
    "    samtools sort -o $bam1_sorted -@ 32 $bam1_raw \n",
    "    \n",
    "    echo \"Indexing bam file...\"\n",
    "    samtools index -b -@ 32 $bam1_sorted $bam1_index \n",
    "    \n",
    "    echo \"Removing $sam...\"\n",
    "    rm $sam\n",
    "    \n",
    "    echo \"Done.\"\n",
    "    echo \"===========================================\"\n",
    "\n",
    "done\n",
    "\n",
    "\n",
    "\n"
   ]
  },
  {
   "cell_type": "code",
   "execution_count": null,
   "metadata": {
    "vscode": {
     "languageId": "shellscript"
    }
   },
   "outputs": [],
   "source": [
    "#GTDBTK\n"
   ]
  }
 ],
 "metadata": {
  "kernelspec": {
   "display_name": "Python 3.9.5 ('base')",
   "language": "python",
   "name": "python3"
  },
  "language_info": {
   "name": "python",
   "version": "3.9.5"
  },
  "orig_nbformat": 4,
  "vscode": {
   "interpreter": {
    "hash": "0cbc016b3f104e63808d511a6b25c0b91d1b3be1ded266572276e6efd4112fae"
   }
  }
 },
 "nbformat": 4,
 "nbformat_minor": 2
}
